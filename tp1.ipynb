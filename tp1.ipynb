{
 "cells": [
  {
   "cell_type": "markdown",
   "id": "62d9398a",
   "metadata": {},
   "source": [
    "# Import the libraries"
   ]
  },
  {
   "cell_type": "code",
   "execution_count": null,
   "id": "7c5701f9",
   "metadata": {},
   "outputs": [],
   "source": [
    "import numpy as np\n",
    "import pandas as pd\n",
    "import seaborn as sns\n",
    "import matplotlib.pyplot as plt"
   ]
  },
  {
   "cell_type": "markdown",
   "id": "2bcfa60b",
   "metadata": {},
   "source": [
    "# Importing the dataset"
   ]
  },
  {
   "cell_type": "code",
   "execution_count": 73,
   "id": "0b8f09b5",
   "metadata": {},
   "outputs": [
    {
     "data": {
      "text/html": [
       "<div>\n",
       "<style scoped>\n",
       "    .dataframe tbody tr th:only-of-type {\n",
       "        vertical-align: middle;\n",
       "    }\n",
       "\n",
       "    .dataframe tbody tr th {\n",
       "        vertical-align: top;\n",
       "    }\n",
       "\n",
       "    .dataframe thead th {\n",
       "        text-align: right;\n",
       "    }\n",
       "</style>\n",
       "<table border=\"1\" class=\"dataframe\">\n",
       "  <thead>\n",
       "    <tr style=\"text-align: right;\">\n",
       "      <th></th>\n",
       "      <th>sepal_length</th>\n",
       "      <th>sepal_width</th>\n",
       "      <th>petal_length</th>\n",
       "      <th>petal_width</th>\n",
       "      <th>class</th>\n",
       "    </tr>\n",
       "  </thead>\n",
       "  <tbody>\n",
       "    <tr>\n",
       "      <th>0</th>\n",
       "      <td>5.1</td>\n",
       "      <td>3.5</td>\n",
       "      <td>1.4</td>\n",
       "      <td>0.2</td>\n",
       "      <td>Iris-setosa</td>\n",
       "    </tr>\n",
       "    <tr>\n",
       "      <th>1</th>\n",
       "      <td>4.9</td>\n",
       "      <td>3.0</td>\n",
       "      <td>1.4</td>\n",
       "      <td>0.2</td>\n",
       "      <td>Iris-setosa</td>\n",
       "    </tr>\n",
       "    <tr>\n",
       "      <th>2</th>\n",
       "      <td>4.7</td>\n",
       "      <td>3.2</td>\n",
       "      <td>1.3</td>\n",
       "      <td>0.2</td>\n",
       "      <td>Iris-setosa</td>\n",
       "    </tr>\n",
       "    <tr>\n",
       "      <th>3</th>\n",
       "      <td>4.6</td>\n",
       "      <td>3.1</td>\n",
       "      <td>1.5</td>\n",
       "      <td>0.2</td>\n",
       "      <td>Iris-setosa</td>\n",
       "    </tr>\n",
       "    <tr>\n",
       "      <th>4</th>\n",
       "      <td>5.0</td>\n",
       "      <td>3.6</td>\n",
       "      <td>1.4</td>\n",
       "      <td>0.2</td>\n",
       "      <td>Iris-setosa</td>\n",
       "    </tr>\n",
       "  </tbody>\n",
       "</table>\n",
       "</div>"
      ],
      "text/plain": [
       "   sepal_length  sepal_width  petal_length  petal_width        class\n",
       "0           5.1          3.5           1.4          0.2  Iris-setosa\n",
       "1           4.9          3.0           1.4          0.2  Iris-setosa\n",
       "2           4.7          3.2           1.3          0.2  Iris-setosa\n",
       "3           4.6          3.1           1.5          0.2  Iris-setosa\n",
       "4           5.0          3.6           1.4          0.2  Iris-setosa"
      ]
     },
     "execution_count": 73,
     "metadata": {},
     "output_type": "execute_result"
    }
   ],
   "source": [
    "#2 Charger le dataset en utilisant pandas\n",
    "dataset=pd.read_csv(\"iris.csv\")\n",
    "dataset.head()\n",
    "# pd.clipboard()"
   ]
  },
  {
   "cell_type": "code",
   "execution_count": 74,
   "id": "2e74f7ce",
   "metadata": {},
   "outputs": [
    {
     "data": {
      "image/png": "[encoded data removed]",
      "text/plain": [
       "<Figure size 640x480 with 1 Axes>"
      ]
     },
     "metadata": {},
     "output_type": "display_data"
    }
   ],
   "source": [
    "plt.plot(dataset[\"petal_length\"],dataset[\"sepal_width\"],'o')\n",
    "plt.xlabel('petal_length')\n",
    "plt.ylabel('sepal_width')\n",
    "plt.show()"
   ]
  },
  {
   "cell_type": "markdown",
   "id": "a075b221",
   "metadata": {},
   "source": [
    "# normalisation"
   ]
  },
  {
   "cell_type": "code",
   "execution_count": 65,
   "id": "b61e3a3c",
   "metadata": {},
   "outputs": [],
   "source": [
    "\n",
    "# df = data[['petal_length', 'sepal_width']]\n",
    "# df = (df - df.mean()) / df.std()\n",
    "# df"
   ]
  },
  {
   "cell_type": "markdown",
   "id": "733d9169",
   "metadata": {},
   "source": [
    "### prédiction de la largeur du sépale en fonction de la longueur de pétale"
   ]
  },
  {
   "cell_type": "code",
   "execution_count": 75,
   "id": "f2645dc1",
   "metadata": {},
   "outputs": [],
   "source": [
    "x = dataset['petal_length'].values.reshape(-1, 1)\n",
    "y = dataset['sepal_width'].values.reshape(-1, 1)"
   ]
  },
  {
   "cell_type": "code",
   "execution_count": 1,
   "id": "eabe41ad",
   "metadata": {},
   "outputs": [
    {
     "ename": "NameError",
     "evalue": "name 'x' is not defined",
     "output_type": "error",
     "traceback": [
      "\u001b[1;31m---------------------------------------------------------------------------\u001b[0m",
      "\u001b[1;31mNameError\u001b[0m                                 Traceback (most recent call last)",
      "\u001b[1;32m~\\AppData\\Local\\Temp\\ipykernel_19604\\648543777.py\u001b[0m in \u001b[0;36m<module>\u001b[1;34m\u001b[0m\n\u001b[1;32m----> 1\u001b[1;33m \u001b[0mx\u001b[0m\u001b[1;33m.\u001b[0m\u001b[0mshape\u001b[0m\u001b[1;33m[\u001b[0m\u001b[1;36m0\u001b[0m\u001b[1;33m]\u001b[0m\u001b[1;33m\u001b[0m\u001b[1;33m\u001b[0m\u001b[0m\n\u001b[0m",
      "\u001b[1;31mNameError\u001b[0m: name 'x' is not defined"
     ]
    }
   ],
   "source": [
    "x.shape[0]"
   ]
  },
  {
   "cell_type": "code",
   "execution_count": 80,
   "id": "2621dcd5",
   "metadata": {},
   "outputs": [
    {
     "data": {
      "text/plain": [
       "(150, 1)"
      ]
     },
     "execution_count": 80,
     "metadata": {},
     "output_type": "execute_result"
    }
   ],
   "source": [
    "y.shape"
   ]
  },
  {
   "cell_type": "markdown",
   "id": "a34816b8",
   "metadata": {},
   "source": [
    "## Create polynomial features"
   ]
  },
  {
   "cell_type": "code",
   "execution_count": 121,
   "id": "81cac2bb",
   "metadata": {},
   "outputs": [
    {
     "name": "stdout",
     "output_type": "stream",
     "text": [
      "(150, 3)\n",
      "************************\n",
      "[[1.96 1.4  1.  ]\n",
      " [1.96 1.4  1.  ]\n",
      " [1.69 1.3  1.  ]\n",
      " [2.25 1.5  1.  ]\n",
      " [1.96 1.4  1.  ]\n",
      " [2.89 1.7  1.  ]\n",
      " [1.96 1.4  1.  ]\n",
      " [2.25 1.5  1.  ]\n",
      " [1.96 1.4  1.  ]\n",
      " [2.25 1.5  1.  ]]\n"
     ]
    }
   ],
   "source": [
    "X=np.hstack((x**2,x,np.ones((x.shape[0], 1))))\n",
    "\n",
    "print(X.shape)\n",
    "\n",
    "#display our matrix \n",
    "print(\"******\"*4)\n",
    "print(X[:10])"
   ]
  },
  {
   "cell_type": "code",
   "execution_count": 83,
   "id": "053a7d8b",
   "metadata": {},
   "outputs": [
    {
     "name": "stdout",
     "output_type": "stream",
     "text": [
      "(150, 3)\n",
      "[[1.96 1.4  1.  ]\n",
      " [1.96 1.4  1.  ]\n",
      " [1.69 1.3  1.  ]\n",
      " [2.25 1.5  1.  ]\n",
      " [1.96 1.4  1.  ]\n",
      " [2.89 1.7  1.  ]\n",
      " [1.96 1.4  1.  ]\n",
      " [2.25 1.5  1.  ]\n",
      " [1.96 1.4  1.  ]\n",
      " [2.25 1.5  1.  ]]\n"
     ]
    }
   ],
   "source": [
    "# par autre facon\n",
    "# Création de la matrice X, inclut le Biais\n",
    "\n",
    "X = np.hstack((x, np.ones(x.shape)))\n",
    "X = np.hstack((x**2, X)) # ajoute le vecteur x^2 a la gauche de la matrice X\n",
    "\n",
    "print(X.shape)\n",
    "print(X[:10])"
   ]
  },
  {
   "cell_type": "markdown",
   "id": "458ea9ca",
   "metadata": {},
   "source": [
    "## Generate parameters thata"
   ]
  },
  {
   "cell_type": "code",
   "execution_count": 90,
   "id": "de2bfc51",
   "metadata": {},
   "outputs": [
    {
     "name": "stdout",
     "output_type": "stream",
     "text": [
      "Theta :  [[0.5488135 ]\n",
      " [0.71518937]\n",
      " [0.60276338]]\n"
     ]
    }
   ],
   "source": [
    "np.random.seed(0) # pour fixé les valeurs des thetas\n",
    "theta = np.random.random((X.shape[1], 1))\n",
    "print('Theta : ', theta)\n"
   ]
  },
  {
   "cell_type": "code",
   "execution_count": 113,
   "id": "7006d6fe",
   "metadata": {},
   "outputs": [
    {
     "data": {
      "text/plain": [
       "(3, 1)"
      ]
     },
     "execution_count": 113,
     "metadata": {},
     "output_type": "execute_result"
    }
   ],
   "source": [
    "theta.shape"
   ]
  },
  {
   "cell_type": "code",
   "execution_count": 115,
   "id": "e3a0ee62",
   "metadata": {},
   "outputs": [
    {
     "data": {
      "text/plain": [
       "(150, 3)"
      ]
     },
     "execution_count": 115,
     "metadata": {},
     "output_type": "execute_result"
    }
   ],
   "source": [
    "X.shape"
   ]
  },
  {
   "cell_type": "code",
   "execution_count": 130,
   "id": "e0b2dfab",
   "metadata": {},
   "outputs": [
    {
     "name": "stdout",
     "output_type": "stream",
     "text": [
      "theta (3, 1)\n",
      "features (150, 3)\n"
     ]
    }
   ],
   "source": [
    "print(\"theta\",theta.shape)\n",
    "print(\"features\",X.shape)"
   ]
  },
  {
   "cell_type": "markdown",
   "id": "275d7822",
   "metadata": {},
   "source": [
    "# Polynomial model"
   ]
  },
  {
   "cell_type": "code",
   "execution_count": 100,
   "id": "b0c0f4ad",
   "metadata": {},
   "outputs": [],
   "source": [
    "def model(X, theta):\n",
    "    return X.dot(theta)"
   ]
  },
  {
   "cell_type": "markdown",
   "id": "136b5fd5",
   "metadata": {},
   "source": [
    "# Cost function"
   ]
  },
  {
   "cell_type": "code",
   "execution_count": 101,
   "id": "e76ebed4",
   "metadata": {},
   "outputs": [],
   "source": [
    "def cost_function(X, y, theta):\n",
    "    m = len(y)\n",
    "    return 1/(2*m) * np.sum((model(X, theta) - y)**2)"
   ]
  },
  {
   "cell_type": "markdown",
   "id": "7874b344",
   "metadata": {},
   "source": [
    "# Gradient descent"
   ]
  },
  {
   "cell_type": "code",
   "execution_count": 102,
   "id": "aa71b17a",
   "metadata": {},
   "outputs": [],
   "source": [
    "def grad(X, y, theta):\n",
    "    m = len(y)\n",
    "    return 1/m * X.T.dot(model(X, theta) - y)"
   ]
  },
  {
   "cell_type": "code",
   "execution_count": 103,
   "id": "7f1d9bd1",
   "metadata": {},
   "outputs": [],
   "source": [
    "def gradient_descent(X, y, theta, learning_rate, n_iterations):\n",
    "\n",
    "    mse_list = []  # cost_history.shape = (n_iterations, )\n",
    "    \n",
    "    m = X.shape[0]\n",
    "\n",
    "    for i in range(0, n_iterations):\n",
    "        \n",
    "        y_pred = model(X, theta)  # y_pred.shape = (m, 1)\n",
    "        \n",
    "        dtheta=grad(X, y, theta)\n",
    "\n",
    "        theta = theta - learning_rate * dtheta  # mise a jour du parametre theta (formule du gradient descent)\n",
    "        \n",
    "        mse_list.append(cost_function(X, y, theta)) # on enregistre la valeur du Cout au tour i dans cost_list y[i]\n",
    "        \n",
    "    return theta,   mse_list "
   ]
  },
  {
   "cell_type": "markdown",
   "id": "de2ab7f5",
   "metadata": {},
   "source": [
    "## Training the model"
   ]
  },
  {
   "cell_type": "code",
   "execution_count": 104,
   "id": "739cc2fd",
   "metadata": {},
   "outputs": [
    {
     "name": "stdout",
     "output_type": "stream",
     "text": [
      "Iteration   1: 64.34334087342953\n",
      "Iteration 4999: 0.12184471390537241\n",
      "Iteration 9999: 0.0763315455543998\n",
      "Iteration 14999: 0.06343738090198235\n",
      "Iteration 19999: 0.059784383580382065\n",
      "Iteration 24999: 0.058749466639941475\n",
      "Iteration 29999: 0.05845626821155001\n"
     ]
    }
   ],
   "source": [
    "n_iterations = 30000\n",
    "learning_rate = 0.004\n",
    "\n",
    "theta_final, cost_history = gradient_descent(X, y, theta, learning_rate, n_iterations)\n",
    "\n",
    "print(f\"Iteration {1:3d}: {cost_history[0]}\")\n",
    "\n",
    "for i in range(len(cost_history)):\n",
    "    if (i+1) % 5000 == 0:\n",
    "        print(f\"Iteration {i:3d}: {cost_history[i]}\")"
   ]
  },
  {
   "cell_type": "code",
   "execution_count": 108,
   "id": "95dc088e",
   "metadata": {},
   "outputs": [
    {
     "data": {
      "text/plain": [
       "array([[ 0.07923589],\n",
       "       [-0.6579016 ],\n",
       "       [ 4.16013432]])"
      ]
     },
     "execution_count": 108,
     "metadata": {},
     "output_type": "execute_result"
    }
   ],
   "source": [
    "theta_final"
   ]
  },
  {
   "cell_type": "markdown",
   "id": "64f03a66",
   "metadata": {},
   "source": [
    "## Learning Curve"
   ]
  },
  {
   "cell_type": "code",
   "execution_count": 132,
   "id": "617a9c0d",
   "metadata": {},
   "outputs": [
    {
     "data": {
      "image/png": "[encoded data removed]",
      "text/plain": [
       "<Figure size 640x480 with 1 Axes>"
      ]
     },
     "metadata": {},
     "output_type": "display_data"
    }
   ],
   "source": [
    "plt.plot(range(0, n_iterations), cost_history )\n",
    "\n",
    "plt.xlabel('#iteration')\n",
    "plt.ylabel('#cost')\n",
    "plt.show()"
   ]
  },
  {
   "cell_type": "markdown",
   "id": "f89423af",
   "metadata": {},
   "source": [
    "## Plot trained model"
   ]
  },
  {
   "cell_type": "code",
   "execution_count": 128,
   "id": "e036daab",
   "metadata": {},
   "outputs": [
    {
     "data": {
      "image/png": "[encoded data removed]",
      "text/plain": [
       "<Figure size 640x480 with 1 Axes>"
      ]
     },
     "metadata": {},
     "output_type": "display_data"
    }
   ],
   "source": [
    "predictions = model(X, theta_final) \n",
    "\n",
    "plt.scatter(X[:, 1], y[:, 0], label='Dataset')\n",
    "plt.scatter(X[:, 1], predictions[:, 0], c = 'r', label = 'Predictions')\n",
    "plt.xlabel('petal_length')\n",
    "plt.ylabel('sepal_width')\n",
    "plt.legend()\n",
    "plt.show()\n"
   ]
  },
  {
   "cell_type": "markdown",
   "id": "ed38e086",
   "metadata": {},
   "source": [
    "## Performance du model"
   ]
  },
  {
   "cell_type": "code",
   "execution_count": 111,
   "id": "36999c25",
   "metadata": {},
   "outputs": [],
   "source": [
    "def coef_determination(y, pred):\n",
    "    u = ((y - pred)**2).sum()\n",
    "    v = ((y - y.mean())**2).sum()\n",
    "    return 1 - u/v"
   ]
  },
  {
   "cell_type": "code",
   "execution_count": 112,
   "id": "94c1ad42",
   "metadata": {},
   "outputs": [
    {
     "data": {
      "text/plain": [
       "0.37396455654009264"
      ]
     },
     "execution_count": 112,
     "metadata": {},
     "output_type": "execute_result"
    }
   ],
   "source": [
    "coef_determination(y[:, 0], predictions[:, 0])"
   ]
  },
  {
   "cell_type": "code",
   "execution_count": null,
   "id": "ae1f2818",
   "metadata": {},
   "outputs": [],
   "source": []
  }
 ],
 "metadata": {
  "kernelspec": {
   "display_name": "Python 3 (ipykernel)",
   "language": "python",
   "name": "python3"
  },
  "language_info": {
   "codemirror_mode": {
    "name": "ipython",
    "version": 3
   },
   "file_extension": ".py",
   "mimetype": "text/x-python",
   "name": "python",
   "nbconvert_exporter": "python",
   "pygments_lexer": "ipython3",
   "version": "3.9.13"
  }
 },
 "nbformat": 4,
 "nbformat_minor": 5
}
